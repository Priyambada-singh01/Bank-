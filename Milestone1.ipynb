{
 "cells": [
  {
   "cell_type": "markdown",
   "metadata": {},
   "source": [
    "# Apply 10% Discount to Prices\n",
    "\n",
    "Apply a 10% discount to a list of prices using both a list-based approach and a NumPy-based approach."
   ]
  },
  {
   "cell_type": "markdown",
   "metadata": {},
   "source": [
    "### Implement the List-Based Approach"
   ]
  },
  {
   "cell_type": "code",
   "execution_count": null,
   "metadata": {},
   "outputs": [],
   "source": [
    "def discount_prices_list(prices_list):\n",
    "    # TODO"
   ]
  },
  {
   "cell_type": "markdown",
   "metadata": {},
   "source": [
    "### Implement the NumPy-Based Approach"
   ]
  },
  {
   "cell_type": "code",
   "execution_count": null,
   "metadata": {},
   "outputs": [],
   "source": [
    "import numpy as np\n",
    "\n",
    "def discount_prices_numpy(prices_array):\n",
    "    # TODO"
   ]
  },
  {
   "cell_type": "markdown",
   "metadata": {},
   "source": [
    "### Run the Tests"
   ]
  },
  {
   "cell_type": "code",
   "execution_count": null,
   "metadata": {},
   "outputs": [],
   "source": [
    "# Test: Applying discount to the list\n",
    "prices_list = [100, 200, 300, 400]\n",
    "expected_discounted_list = [90.0, 180.0, 270.0, 360.0]\n",
    "expected_discounted_array = np.array([90.0, 180.0, 270.0, 360.0])\n",
    "\n",
    "# Test List-based approach\n",
    "discounted_list = discount_prices_list(prices_list)\n",
    "try:\n",
    "    assert discounted_list == expected_discounted_list, f'Expected {expected_discounted_list}, but got {discounted_list}'\n",
    "    print('✅ Test Passed: List-based discount applied correctly.')\n",
    "except Exception as e:\n",
    "    print(f'❌ Test Failed: {e}')\n",
    "\n",
    "# Test NumPy-based approach\n",
    "discounted_array = discount_prices_numpy(np.array(prices_list))\n",
    "try:\n",
    "    assert np.array_equal(discounted_array, expected_discounted_array), f'Expected {expected_discounted_array}, but got {discounted_array}'\n",
    "    print('✅ Test Passed: NumPy-based discount applied correctly.')\n",
    "except Exception as e:\n",
    "    print(f'❌ Test Failed: {e}')\n",
    "\n"
   ]
  }
 ],
 "metadata": {
  "kernelspec": {
   "display_name": "Python 3 (ipykernel)",
   "language": "python",
   "name": "python3"
  },
  "language_info": {
   "codemirror_mode": {
    "name": "ipython",
    "version": 3
   },
   "file_extension": ".py",
   "mimetype": "text/x-python",
   "name": "python",
   "nbconvert_exporter": "python",
   "pygments_lexer": "ipython3",
   "version": "3.9.18"
  }
 },
 "nbformat": 4,
 "nbformat_minor": 4
}
